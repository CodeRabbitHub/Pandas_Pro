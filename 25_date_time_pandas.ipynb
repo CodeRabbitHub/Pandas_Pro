{
 "cells": [
  {
   "cell_type": "markdown",
   "id": "6e3962bf",
   "metadata": {},
   "source": [
    "### Python datetime"
   ]
  },
  {
   "cell_type": "code",
   "execution_count": 1,
   "id": "4476b1a0",
   "metadata": {},
   "outputs": [],
   "source": [
    "import datetime as dt"
   ]
  },
  {
   "cell_type": "code",
   "execution_count": 2,
   "id": "29648168",
   "metadata": {},
   "outputs": [],
   "source": [
    "today = dt.date(year=2019, month=12, day=22)"
   ]
  },
  {
   "cell_type": "code",
   "execution_count": 3,
   "id": "cba920ef",
   "metadata": {},
   "outputs": [
    {
     "data": {
      "text/plain": [
       "(2019, 12, 22)"
      ]
     },
     "execution_count": 3,
     "metadata": {},
     "output_type": "execute_result"
    }
   ],
   "source": [
    "today.year, today.month, today.day"
   ]
  },
  {
   "cell_type": "code",
   "execution_count": 4,
   "id": "c224c535",
   "metadata": {},
   "outputs": [],
   "source": [
    "today = dt.datetime.now()"
   ]
  },
  {
   "cell_type": "code",
   "execution_count": 5,
   "id": "041ad392",
   "metadata": {},
   "outputs": [
    {
     "name": "stdout",
     "output_type": "stream",
     "text": [
      "2022-08-30 19:41:19.559076\n"
     ]
    }
   ],
   "source": [
    "print(today)"
   ]
  },
  {
   "cell_type": "code",
   "execution_count": 6,
   "id": "5db9ca7a",
   "metadata": {},
   "outputs": [
    {
     "data": {
      "text/plain": [
       "(2022, 8, 30, 19, 41, 19, 559076)"
      ]
     },
     "execution_count": 6,
     "metadata": {},
     "output_type": "execute_result"
    }
   ],
   "source": [
    "today.year, today.month, today.day, today.hour, today.minute, today.second, today.microsecond"
   ]
  },
  {
   "cell_type": "markdown",
   "id": "6951e337",
   "metadata": {},
   "source": [
    "### Timestamp"
   ]
  },
  {
   "cell_type": "code",
   "execution_count": 7,
   "id": "6e434de8",
   "metadata": {},
   "outputs": [],
   "source": [
    "import pandas as pd"
   ]
  },
  {
   "cell_type": "code",
   "execution_count": 8,
   "id": "77d0e847",
   "metadata": {},
   "outputs": [
    {
     "data": {
      "text/plain": [
       "Timestamp('2022-08-30 19:41:20.065073')"
      ]
     },
     "execution_count": 8,
     "metadata": {},
     "output_type": "execute_result"
    }
   ],
   "source": [
    "pd.Timestamp.now()"
   ]
  },
  {
   "cell_type": "code",
   "execution_count": 9,
   "id": "ad0ed098",
   "metadata": {},
   "outputs": [
    {
     "data": {
      "text/plain": [
       "(Timestamp('2022-12-22 00:00:00'),\n",
       " Timestamp('2022-12-22 00:00:00'),\n",
       " Timestamp('2022-12-22 00:00:00'))"
      ]
     },
     "execution_count": 9,
     "metadata": {},
     "output_type": "execute_result"
    }
   ],
   "source": [
    "pd.Timestamp(\"2022-12-22\"), pd.Timestamp(\"2022, 12, 22\"), pd.Timestamp(\"2022/12/22\")"
   ]
  },
  {
   "cell_type": "code",
   "execution_count": 10,
   "id": "4d8088f2",
   "metadata": {},
   "outputs": [
    {
     "data": {
      "text/plain": [
       "(Timestamp('2022-12-22 17:35:20'), Timestamp('2022-12-22 17:35:20'))"
      ]
     },
     "execution_count": 10,
     "metadata": {},
     "output_type": "execute_result"
    }
   ],
   "source": [
    "pd.Timestamp(\"2022-12-22 17:35:20\"), pd.Timestamp(\"2022-12-22 5:35:20 PM\")"
   ]
  },
  {
   "cell_type": "markdown",
   "id": "28e80aeb",
   "metadata": {},
   "source": [
    "### DateTimeIndex"
   ]
  },
  {
   "cell_type": "code",
   "execution_count": 11,
   "id": "94f7f7e4",
   "metadata": {},
   "outputs": [],
   "source": [
    "dates = [\"2022-12-22\",\"2022-12-23\",\"2022-12-24\"]"
   ]
  },
  {
   "cell_type": "code",
   "execution_count": 12,
   "id": "084064ae",
   "metadata": {},
   "outputs": [
    {
     "data": {
      "text/plain": [
       "list"
      ]
     },
     "execution_count": 12,
     "metadata": {},
     "output_type": "execute_result"
    }
   ],
   "source": [
    "type(dates)"
   ]
  },
  {
   "cell_type": "code",
   "execution_count": 13,
   "id": "b144b150",
   "metadata": {},
   "outputs": [
    {
     "data": {
      "text/plain": [
       "DatetimeIndex(['2022-12-22', '2022-12-23', '2022-12-24'], dtype='datetime64[ns]', freq=None)"
      ]
     },
     "execution_count": 13,
     "metadata": {},
     "output_type": "execute_result"
    }
   ],
   "source": [
    "pd.DatetimeIndex(dates)"
   ]
  },
  {
   "cell_type": "code",
   "execution_count": 14,
   "id": "494981d6",
   "metadata": {},
   "outputs": [],
   "source": [
    "dates = [dt.date(2022,12,22), dt.date(2022,12,23), dt.date(2022,12,24)]"
   ]
  },
  {
   "cell_type": "code",
   "execution_count": 15,
   "id": "b8ff6f85",
   "metadata": {},
   "outputs": [
    {
     "name": "stdout",
     "output_type": "stream",
     "text": [
      "[datetime.date(2022, 12, 22), datetime.date(2022, 12, 23), datetime.date(2022, 12, 24)]\n"
     ]
    }
   ],
   "source": [
    "print(dates)"
   ]
  },
  {
   "cell_type": "code",
   "execution_count": 16,
   "id": "82c0adc3",
   "metadata": {},
   "outputs": [
    {
     "data": {
      "text/plain": [
       "DatetimeIndex(['2022-12-22', '2022-12-23', '2022-12-24'], dtype='datetime64[ns]', freq=None)"
      ]
     },
     "execution_count": 16,
     "metadata": {},
     "output_type": "execute_result"
    }
   ],
   "source": [
    "dateindex = pd.DatetimeIndex(dates)\n",
    "dateindex"
   ]
  },
  {
   "cell_type": "code",
   "execution_count": 17,
   "id": "280348fd",
   "metadata": {},
   "outputs": [
    {
     "data": {
      "text/plain": [
       "2022-12-22    100\n",
       "2022-12-23    110\n",
       "2022-12-24     90\n",
       "dtype: int64"
      ]
     },
     "execution_count": 17,
     "metadata": {},
     "output_type": "execute_result"
    }
   ],
   "source": [
    "sales = [100, 110, 90]\n",
    "pd.Series(data=sales, index=dateindex)"
   ]
  },
  {
   "cell_type": "markdown",
   "id": "c992efbe",
   "metadata": {},
   "source": [
    "### pd.to_datetime()"
   ]
  },
  {
   "cell_type": "code",
   "execution_count": 18,
   "id": "2046306b",
   "metadata": {},
   "outputs": [
    {
     "data": {
      "text/plain": [
       "Timestamp('2012-12-22 00:00:00')"
      ]
     },
     "execution_count": 18,
     "metadata": {},
     "output_type": "execute_result"
    }
   ],
   "source": [
    "pd.to_datetime(\"2012/12/22\")"
   ]
  },
  {
   "cell_type": "code",
   "execution_count": 19,
   "id": "7d4705f9",
   "metadata": {},
   "outputs": [
    {
     "data": {
      "text/plain": [
       "Timestamp('2022-12-22 00:00:00')"
      ]
     },
     "execution_count": 19,
     "metadata": {},
     "output_type": "execute_result"
    }
   ],
   "source": [
    "pd.to_datetime(dt.date(2022,12,22))"
   ]
  },
  {
   "cell_type": "code",
   "execution_count": 20,
   "id": "411cd4da",
   "metadata": {},
   "outputs": [
    {
     "data": {
      "text/plain": [
       "Timestamp('2022-12-22 17:53:30')"
      ]
     },
     "execution_count": 20,
     "metadata": {},
     "output_type": "execute_result"
    }
   ],
   "source": [
    "pd.to_datetime(dt.datetime(2022,12,22,17,53,30))"
   ]
  },
  {
   "cell_type": "code",
   "execution_count": 21,
   "id": "21d6981b",
   "metadata": {},
   "outputs": [
    {
     "data": {
      "text/plain": [
       "DatetimeIndex(['2022-12-22', '2022-12-23', '2022-12-24'], dtype='datetime64[ns]', freq=None)"
      ]
     },
     "execution_count": 21,
     "metadata": {},
     "output_type": "execute_result"
    }
   ],
   "source": [
    "dates = [\"2022-12-22\",\"2022-12-23\",\"2022-12-24\"]\n",
    "pd.to_datetime(dates)"
   ]
  },
  {
   "cell_type": "code",
   "execution_count": 22,
   "id": "30b4198a",
   "metadata": {},
   "outputs": [
    {
     "data": {
      "text/plain": [
       "datetime.datetime(1300, 1, 1, 0, 0)"
      ]
     },
     "execution_count": 22,
     "metadata": {},
     "output_type": "execute_result"
    }
   ],
   "source": [
    "pd.to_datetime('13000101', format='%Y%m%d', errors='ignore')"
   ]
  },
  {
   "cell_type": "code",
   "execution_count": 23,
   "id": "4684db8d",
   "metadata": {},
   "outputs": [
    {
     "data": {
      "text/plain": [
       "NaT"
      ]
     },
     "execution_count": 23,
     "metadata": {},
     "output_type": "execute_result"
    }
   ],
   "source": [
    "pd.to_datetime('13000101', format='%Y%m%d', errors='coerce')"
   ]
  },
  {
   "cell_type": "code",
   "execution_count": 24,
   "id": "e1c80441",
   "metadata": {},
   "outputs": [
    {
     "data": {
      "text/plain": [
       "DatetimeIndex(['2020-01-01 01:00:00-01:00', '2020-01-01 02:00:00-01:00'], dtype='datetime64[ns, pytz.FixedOffset(-60)]', freq=None)"
      ]
     },
     "execution_count": 24,
     "metadata": {},
     "output_type": "execute_result"
    }
   ],
   "source": [
    "pd.to_datetime([\"2020-01-01 01:00 -01:00\", dt.datetime(2020, 1, 1, 3, 0)])"
   ]
  },
  {
   "cell_type": "code",
   "execution_count": 25,
   "id": "6ac970ae",
   "metadata": {},
   "outputs": [
    {
     "data": {
      "text/plain": [
       "0         23rd Dec, 1990\n",
       "1    December 12th, 1950\n",
       "2          What is date?\n",
       "3               22-12-09\n",
       "dtype: object"
      ]
     },
     "execution_count": 25,
     "metadata": {},
     "output_type": "execute_result"
    }
   ],
   "source": [
    "dates = pd.Series([\"23rd Dec, 1990\", \"December 12th, 1950\", \"What is date?\", \"22-12-09\"])\n",
    "dates"
   ]
  },
  {
   "cell_type": "code",
   "execution_count": 26,
   "id": "e6536543",
   "metadata": {},
   "outputs": [
    {
     "data": {
      "text/plain": [
       "0   1990-12-23\n",
       "1   1950-12-12\n",
       "2          NaT\n",
       "3   2009-12-22\n",
       "dtype: datetime64[ns]"
      ]
     },
     "execution_count": 26,
     "metadata": {},
     "output_type": "execute_result"
    }
   ],
   "source": [
    "pd.to_datetime(dates, errors=\"coerce\")"
   ]
  },
  {
   "cell_type": "code",
   "execution_count": 27,
   "id": "4a17d2f3",
   "metadata": {},
   "outputs": [
    {
     "data": {
      "text/plain": [
       "0         23rd Dec, 1990\n",
       "1    December 12th, 1950\n",
       "2          What is date?\n",
       "3               22-12-09\n",
       "dtype: object"
      ]
     },
     "execution_count": 27,
     "metadata": {},
     "output_type": "execute_result"
    }
   ],
   "source": [
    "pd.to_datetime(dates, errors=\"ignore\")"
   ]
  },
  {
   "cell_type": "code",
   "execution_count": 28,
   "id": "607b336d",
   "metadata": {},
   "outputs": [
    {
     "data": {
      "text/plain": [
       "DatetimeIndex(['2018-10-26 12:00:00-05:00', '2018-10-26 13:00:00-05:00'], dtype='datetime64[ns, pytz.FixedOffset(-300)]', freq=None)"
      ]
     },
     "execution_count": 28,
     "metadata": {},
     "output_type": "execute_result"
    }
   ],
   "source": [
    "pd.to_datetime(['2018-10-26 12:00 -0500', '2018-10-26 13:00 -0500'])"
   ]
  },
  {
   "cell_type": "code",
   "execution_count": 29,
   "id": "2b2bccb0",
   "metadata": {},
   "outputs": [
    {
     "data": {
      "text/plain": [
       "Index([2020-10-25 02:00:00+02:00, 2020-10-25 04:00:00+01:00], dtype='object')"
      ]
     },
     "execution_count": 29,
     "metadata": {},
     "output_type": "execute_result"
    }
   ],
   "source": [
    "pd.to_datetime(['2020-10-25 02:00 +0200', '2020-10-25 04:00 +0100'])"
   ]
  },
  {
   "cell_type": "code",
   "execution_count": 30,
   "id": "d7d09753",
   "metadata": {},
   "outputs": [],
   "source": [
    "unixtime=[12344563, 23456323, 34567534, 23483922]"
   ]
  },
  {
   "cell_type": "code",
   "execution_count": 31,
   "id": "3c344509",
   "metadata": {},
   "outputs": [
    {
     "data": {
      "text/plain": [
       "DatetimeIndex(['1970-05-23 21:02:43', '1970-09-29 11:38:43',\n",
       "               '1971-02-05 02:05:34', '1970-09-29 19:18:42'],\n",
       "              dtype='datetime64[ns]', freq=None)"
      ]
     },
     "execution_count": 31,
     "metadata": {},
     "output_type": "execute_result"
    }
   ],
   "source": [
    "pd.to_datetime(unixtime, unit=\"s\")"
   ]
  },
  {
   "cell_type": "markdown",
   "id": "9e6cab94",
   "metadata": {},
   "source": [
    "### Create Range in the form of Date pd.date_range()"
   ]
  },
  {
   "cell_type": "code",
   "execution_count": 32,
   "id": "db19c362",
   "metadata": {},
   "outputs": [],
   "source": [
    "times = pd.date_range(start = \"2019-12-22\", end = \"2022-12-22\", freq=\"H\")"
   ]
  },
  {
   "cell_type": "code",
   "execution_count": 33,
   "id": "b608eb54",
   "metadata": {},
   "outputs": [
    {
     "data": {
      "text/plain": [
       "DatetimeIndex(['2019-12-22 00:00:00', '2019-12-22 01:00:00',\n",
       "               '2019-12-22 02:00:00', '2019-12-22 03:00:00',\n",
       "               '2019-12-22 04:00:00', '2019-12-22 05:00:00',\n",
       "               '2019-12-22 06:00:00', '2019-12-22 07:00:00',\n",
       "               '2019-12-22 08:00:00', '2019-12-22 09:00:00',\n",
       "               ...\n",
       "               '2022-12-21 15:00:00', '2022-12-21 16:00:00',\n",
       "               '2022-12-21 17:00:00', '2022-12-21 18:00:00',\n",
       "               '2022-12-21 19:00:00', '2022-12-21 20:00:00',\n",
       "               '2022-12-21 21:00:00', '2022-12-21 22:00:00',\n",
       "               '2022-12-21 23:00:00', '2022-12-22 00:00:00'],\n",
       "              dtype='datetime64[ns]', length=26305, freq='H')"
      ]
     },
     "execution_count": 33,
     "metadata": {},
     "output_type": "execute_result"
    }
   ],
   "source": [
    "times"
   ]
  },
  {
   "cell_type": "markdown",
   "id": "231995a0",
   "metadata": {},
   "source": [
    "### Importing Stock data from data_reader"
   ]
  },
  {
   "cell_type": "code",
   "execution_count": 34,
   "id": "1e58a19e",
   "metadata": {},
   "outputs": [
    {
     "name": "stdout",
     "output_type": "stream",
     "text": [
      "Requirement already satisfied: pandas-datareader in c:\\users\\amanroland\\anaconda3\\lib\\site-packages (0.10.0)\n",
      "Requirement already satisfied: pandas>=0.23 in c:\\users\\amanroland\\anaconda3\\lib\\site-packages (from pandas-datareader) (1.4.2)\n",
      "Requirement already satisfied: lxml in c:\\users\\amanroland\\anaconda3\\lib\\site-packages (from pandas-datareader) (4.8.0)\n",
      "Requirement already satisfied: requests>=2.19.0 in c:\\users\\amanroland\\anaconda3\\lib\\site-packages (from pandas-datareader) (2.27.1)\n",
      "Requirement already satisfied: python-dateutil>=2.8.1 in c:\\users\\amanroland\\anaconda3\\lib\\site-packages (from pandas>=0.23->pandas-datareader) (2.8.2)\n",
      "Requirement already satisfied: numpy>=1.18.5 in c:\\users\\amanroland\\anaconda3\\lib\\site-packages (from pandas>=0.23->pandas-datareader) (1.21.5)\n",
      "Requirement already satisfied: pytz>=2020.1 in c:\\users\\amanroland\\anaconda3\\lib\\site-packages (from pandas>=0.23->pandas-datareader) (2021.3)\n",
      "Requirement already satisfied: six>=1.5 in c:\\users\\amanroland\\anaconda3\\lib\\site-packages (from python-dateutil>=2.8.1->pandas>=0.23->pandas-datareader) (1.16.0)\n",
      "Requirement already satisfied: urllib3<1.27,>=1.21.1 in c:\\users\\amanroland\\anaconda3\\lib\\site-packages (from requests>=2.19.0->pandas-datareader) (1.26.9)\n",
      "Requirement already satisfied: certifi>=2017.4.17 in c:\\users\\amanroland\\anaconda3\\lib\\site-packages (from requests>=2.19.0->pandas-datareader) (2022.5.18.1)\n",
      "Requirement already satisfied: charset-normalizer~=2.0.0 in c:\\users\\amanroland\\anaconda3\\lib\\site-packages (from requests>=2.19.0->pandas-datareader) (2.0.4)\n",
      "Requirement already satisfied: idna<4,>=2.5 in c:\\users\\amanroland\\anaconda3\\lib\\site-packages (from requests>=2.19.0->pandas-datareader) (3.3)\n"
     ]
    }
   ],
   "source": [
    "!pip install pandas-datareader"
   ]
  },
  {
   "cell_type": "code",
   "execution_count": 35,
   "id": "6e35c53f",
   "metadata": {},
   "outputs": [],
   "source": [
    "from pandas_datareader import data"
   ]
  },
  {
   "cell_type": "code",
   "execution_count": 36,
   "id": "3f4587da",
   "metadata": {},
   "outputs": [],
   "source": [
    "company = \"MSFT\"\n",
    "start = \"2019-01-01\"\n",
    "end = \"2019-12-31\""
   ]
  },
  {
   "cell_type": "code",
   "execution_count": 37,
   "id": "f0ac1f62",
   "metadata": {},
   "outputs": [],
   "source": [
    "stocks=data.DataReader(name=company, data_source=\"yahoo\", start=start, end=end)"
   ]
  },
  {
   "cell_type": "code",
   "execution_count": 38,
   "id": "00b17a7a",
   "metadata": {},
   "outputs": [
    {
     "data": {
      "text/html": [
       "<div>\n",
       "<style scoped>\n",
       "    .dataframe tbody tr th:only-of-type {\n",
       "        vertical-align: middle;\n",
       "    }\n",
       "\n",
       "    .dataframe tbody tr th {\n",
       "        vertical-align: top;\n",
       "    }\n",
       "\n",
       "    .dataframe thead th {\n",
       "        text-align: right;\n",
       "    }\n",
       "</style>\n",
       "<table border=\"1\" class=\"dataframe\">\n",
       "  <thead>\n",
       "    <tr style=\"text-align: right;\">\n",
       "      <th></th>\n",
       "      <th>High</th>\n",
       "      <th>Low</th>\n",
       "      <th>Open</th>\n",
       "      <th>Close</th>\n",
       "      <th>Volume</th>\n",
       "      <th>Adj Close</th>\n",
       "    </tr>\n",
       "    <tr>\n",
       "      <th>Date</th>\n",
       "      <th></th>\n",
       "      <th></th>\n",
       "      <th></th>\n",
       "      <th></th>\n",
       "      <th></th>\n",
       "      <th></th>\n",
       "    </tr>\n",
       "  </thead>\n",
       "  <tbody>\n",
       "    <tr>\n",
       "      <th>2018-12-31</th>\n",
       "      <td>102.400002</td>\n",
       "      <td>100.440002</td>\n",
       "      <td>101.290001</td>\n",
       "      <td>101.570000</td>\n",
       "      <td>33173800.0</td>\n",
       "      <td>97.580017</td>\n",
       "    </tr>\n",
       "    <tr>\n",
       "      <th>2019-01-02</th>\n",
       "      <td>101.750000</td>\n",
       "      <td>98.940002</td>\n",
       "      <td>99.550003</td>\n",
       "      <td>101.120003</td>\n",
       "      <td>35329300.0</td>\n",
       "      <td>97.147705</td>\n",
       "    </tr>\n",
       "    <tr>\n",
       "      <th>2019-01-03</th>\n",
       "      <td>100.190002</td>\n",
       "      <td>97.199997</td>\n",
       "      <td>100.099998</td>\n",
       "      <td>97.400002</td>\n",
       "      <td>42579100.0</td>\n",
       "      <td>93.573853</td>\n",
       "    </tr>\n",
       "    <tr>\n",
       "      <th>2019-01-04</th>\n",
       "      <td>102.510002</td>\n",
       "      <td>98.930000</td>\n",
       "      <td>99.720001</td>\n",
       "      <td>101.930000</td>\n",
       "      <td>44060600.0</td>\n",
       "      <td>97.925880</td>\n",
       "    </tr>\n",
       "    <tr>\n",
       "      <th>2019-01-07</th>\n",
       "      <td>103.269997</td>\n",
       "      <td>100.980003</td>\n",
       "      <td>101.639999</td>\n",
       "      <td>102.059998</td>\n",
       "      <td>35656100.0</td>\n",
       "      <td>98.050766</td>\n",
       "    </tr>\n",
       "    <tr>\n",
       "      <th>...</th>\n",
       "      <td>...</td>\n",
       "      <td>...</td>\n",
       "      <td>...</td>\n",
       "      <td>...</td>\n",
       "      <td>...</td>\n",
       "      <td>...</td>\n",
       "    </tr>\n",
       "    <tr>\n",
       "      <th>2019-12-24</th>\n",
       "      <td>157.710007</td>\n",
       "      <td>157.119995</td>\n",
       "      <td>157.479996</td>\n",
       "      <td>157.380005</td>\n",
       "      <td>8989200.0</td>\n",
       "      <td>153.433243</td>\n",
       "    </tr>\n",
       "    <tr>\n",
       "      <th>2019-12-26</th>\n",
       "      <td>158.729996</td>\n",
       "      <td>157.399994</td>\n",
       "      <td>157.559998</td>\n",
       "      <td>158.669998</td>\n",
       "      <td>14520600.0</td>\n",
       "      <td>154.690918</td>\n",
       "    </tr>\n",
       "    <tr>\n",
       "      <th>2019-12-27</th>\n",
       "      <td>159.550003</td>\n",
       "      <td>158.220001</td>\n",
       "      <td>159.449997</td>\n",
       "      <td>158.960007</td>\n",
       "      <td>18412800.0</td>\n",
       "      <td>154.973648</td>\n",
       "    </tr>\n",
       "    <tr>\n",
       "      <th>2019-12-30</th>\n",
       "      <td>159.020004</td>\n",
       "      <td>156.729996</td>\n",
       "      <td>158.990005</td>\n",
       "      <td>157.589996</td>\n",
       "      <td>16348400.0</td>\n",
       "      <td>153.637985</td>\n",
       "    </tr>\n",
       "    <tr>\n",
       "      <th>2019-12-31</th>\n",
       "      <td>157.770004</td>\n",
       "      <td>156.449997</td>\n",
       "      <td>156.770004</td>\n",
       "      <td>157.699997</td>\n",
       "      <td>18369400.0</td>\n",
       "      <td>153.745224</td>\n",
       "    </tr>\n",
       "  </tbody>\n",
       "</table>\n",
       "<p>253 rows × 6 columns</p>\n",
       "</div>"
      ],
      "text/plain": [
       "                  High         Low        Open       Close      Volume  \\\n",
       "Date                                                                     \n",
       "2018-12-31  102.400002  100.440002  101.290001  101.570000  33173800.0   \n",
       "2019-01-02  101.750000   98.940002   99.550003  101.120003  35329300.0   \n",
       "2019-01-03  100.190002   97.199997  100.099998   97.400002  42579100.0   \n",
       "2019-01-04  102.510002   98.930000   99.720001  101.930000  44060600.0   \n",
       "2019-01-07  103.269997  100.980003  101.639999  102.059998  35656100.0   \n",
       "...                ...         ...         ...         ...         ...   \n",
       "2019-12-24  157.710007  157.119995  157.479996  157.380005   8989200.0   \n",
       "2019-12-26  158.729996  157.399994  157.559998  158.669998  14520600.0   \n",
       "2019-12-27  159.550003  158.220001  159.449997  158.960007  18412800.0   \n",
       "2019-12-30  159.020004  156.729996  158.990005  157.589996  16348400.0   \n",
       "2019-12-31  157.770004  156.449997  156.770004  157.699997  18369400.0   \n",
       "\n",
       "             Adj Close  \n",
       "Date                    \n",
       "2018-12-31   97.580017  \n",
       "2019-01-02   97.147705  \n",
       "2019-01-03   93.573853  \n",
       "2019-01-04   97.925880  \n",
       "2019-01-07   98.050766  \n",
       "...                ...  \n",
       "2019-12-24  153.433243  \n",
       "2019-12-26  154.690918  \n",
       "2019-12-27  154.973648  \n",
       "2019-12-30  153.637985  \n",
       "2019-12-31  153.745224  \n",
       "\n",
       "[253 rows x 6 columns]"
      ]
     },
     "execution_count": 38,
     "metadata": {},
     "output_type": "execute_result"
    }
   ],
   "source": [
    "stocks"
   ]
  },
  {
   "cell_type": "code",
   "execution_count": 39,
   "id": "098beccc",
   "metadata": {},
   "outputs": [
    {
     "data": {
      "text/plain": [
       "High         1.587300e+02\n",
       "Low          1.574000e+02\n",
       "Open         1.575600e+02\n",
       "Close        1.586700e+02\n",
       "Volume       1.452060e+07\n",
       "Adj Close    1.546909e+02\n",
       "Name: 2019-12-26 00:00:00, dtype: float64"
      ]
     },
     "execution_count": 39,
     "metadata": {},
     "output_type": "execute_result"
    }
   ],
   "source": [
    "stocks.loc[\"2019-12-26\"]"
   ]
  },
  {
   "cell_type": "code",
   "execution_count": 40,
   "id": "93d6a4bd",
   "metadata": {},
   "outputs": [
    {
     "data": {
      "text/plain": [
       "High         1.409900e+02\n",
       "Low          1.395300e+02\n",
       "Open         1.407900e+02\n",
       "Close        1.404100e+02\n",
       "Volume       2.075160e+07\n",
       "Adj Close    1.364246e+02\n",
       "Name: 2019-10-16 00:00:00, dtype: float64"
      ]
     },
     "execution_count": 40,
     "metadata": {},
     "output_type": "execute_result"
    }
   ],
   "source": [
    "stocks.iloc[200]"
   ]
  },
  {
   "cell_type": "code",
   "execution_count": 41,
   "id": "41fd69f7",
   "metadata": {},
   "outputs": [
    {
     "data": {
      "text/html": [
       "<div>\n",
       "<style scoped>\n",
       "    .dataframe tbody tr th:only-of-type {\n",
       "        vertical-align: middle;\n",
       "    }\n",
       "\n",
       "    .dataframe tbody tr th {\n",
       "        vertical-align: top;\n",
       "    }\n",
       "\n",
       "    .dataframe thead th {\n",
       "        text-align: right;\n",
       "    }\n",
       "</style>\n",
       "<table border=\"1\" class=\"dataframe\">\n",
       "  <thead>\n",
       "    <tr style=\"text-align: right;\">\n",
       "      <th></th>\n",
       "      <th>High</th>\n",
       "      <th>Low</th>\n",
       "      <th>Open</th>\n",
       "      <th>Close</th>\n",
       "      <th>Volume</th>\n",
       "      <th>Adj Close</th>\n",
       "    </tr>\n",
       "    <tr>\n",
       "      <th>Date</th>\n",
       "      <th></th>\n",
       "      <th></th>\n",
       "      <th></th>\n",
       "      <th></th>\n",
       "      <th></th>\n",
       "      <th></th>\n",
       "    </tr>\n",
       "  </thead>\n",
       "  <tbody>\n",
       "    <tr>\n",
       "      <th>2019-12-02</th>\n",
       "      <td>151.830002</td>\n",
       "      <td>148.320007</td>\n",
       "      <td>151.809998</td>\n",
       "      <td>149.550003</td>\n",
       "      <td>27418400.0</td>\n",
       "      <td>145.799591</td>\n",
       "    </tr>\n",
       "    <tr>\n",
       "      <th>2019-12-03</th>\n",
       "      <td>149.429993</td>\n",
       "      <td>146.649994</td>\n",
       "      <td>147.490005</td>\n",
       "      <td>149.309998</td>\n",
       "      <td>24066000.0</td>\n",
       "      <td>145.565628</td>\n",
       "    </tr>\n",
       "    <tr>\n",
       "      <th>2019-12-04</th>\n",
       "      <td>150.179993</td>\n",
       "      <td>149.199997</td>\n",
       "      <td>150.139999</td>\n",
       "      <td>149.850006</td>\n",
       "      <td>17574700.0</td>\n",
       "      <td>146.092087</td>\n",
       "    </tr>\n",
       "    <tr>\n",
       "      <th>2019-12-05</th>\n",
       "      <td>150.320007</td>\n",
       "      <td>149.479996</td>\n",
       "      <td>150.050003</td>\n",
       "      <td>149.929993</td>\n",
       "      <td>17869100.0</td>\n",
       "      <td>146.170074</td>\n",
       "    </tr>\n",
       "    <tr>\n",
       "      <th>2019-12-06</th>\n",
       "      <td>151.869995</td>\n",
       "      <td>150.270004</td>\n",
       "      <td>150.990005</td>\n",
       "      <td>151.750000</td>\n",
       "      <td>16403500.0</td>\n",
       "      <td>147.944458</td>\n",
       "    </tr>\n",
       "    <tr>\n",
       "      <th>2019-12-09</th>\n",
       "      <td>152.210007</td>\n",
       "      <td>150.910004</td>\n",
       "      <td>151.070007</td>\n",
       "      <td>151.360001</td>\n",
       "      <td>16687400.0</td>\n",
       "      <td>147.564209</td>\n",
       "    </tr>\n",
       "    <tr>\n",
       "      <th>2019-12-10</th>\n",
       "      <td>151.889999</td>\n",
       "      <td>150.759995</td>\n",
       "      <td>151.289993</td>\n",
       "      <td>151.130005</td>\n",
       "      <td>16476100.0</td>\n",
       "      <td>147.340012</td>\n",
       "    </tr>\n",
       "    <tr>\n",
       "      <th>2019-12-11</th>\n",
       "      <td>151.869995</td>\n",
       "      <td>150.330002</td>\n",
       "      <td>151.539993</td>\n",
       "      <td>151.699997</td>\n",
       "      <td>18856600.0</td>\n",
       "      <td>147.895676</td>\n",
       "    </tr>\n",
       "    <tr>\n",
       "      <th>2019-12-12</th>\n",
       "      <td>153.440002</td>\n",
       "      <td>151.020004</td>\n",
       "      <td>151.649994</td>\n",
       "      <td>153.240005</td>\n",
       "      <td>24612100.0</td>\n",
       "      <td>149.397110</td>\n",
       "    </tr>\n",
       "    <tr>\n",
       "      <th>2019-12-13</th>\n",
       "      <td>154.889999</td>\n",
       "      <td>152.830002</td>\n",
       "      <td>153.000000</td>\n",
       "      <td>154.529999</td>\n",
       "      <td>23845400.0</td>\n",
       "      <td>150.654709</td>\n",
       "    </tr>\n",
       "    <tr>\n",
       "      <th>2019-12-16</th>\n",
       "      <td>155.899994</td>\n",
       "      <td>154.820007</td>\n",
       "      <td>155.110001</td>\n",
       "      <td>155.529999</td>\n",
       "      <td>24144200.0</td>\n",
       "      <td>151.629623</td>\n",
       "    </tr>\n",
       "    <tr>\n",
       "      <th>2019-12-17</th>\n",
       "      <td>155.710007</td>\n",
       "      <td>154.449997</td>\n",
       "      <td>155.449997</td>\n",
       "      <td>154.690002</td>\n",
       "      <td>25425600.0</td>\n",
       "      <td>150.810684</td>\n",
       "    </tr>\n",
       "    <tr>\n",
       "      <th>2019-12-18</th>\n",
       "      <td>155.479996</td>\n",
       "      <td>154.179993</td>\n",
       "      <td>154.300003</td>\n",
       "      <td>154.369995</td>\n",
       "      <td>24129200.0</td>\n",
       "      <td>150.498764</td>\n",
       "    </tr>\n",
       "    <tr>\n",
       "      <th>2019-12-19</th>\n",
       "      <td>155.770004</td>\n",
       "      <td>153.750000</td>\n",
       "      <td>154.000000</td>\n",
       "      <td>155.710007</td>\n",
       "      <td>24958900.0</td>\n",
       "      <td>151.805130</td>\n",
       "    </tr>\n",
       "    <tr>\n",
       "      <th>2019-12-20</th>\n",
       "      <td>158.490005</td>\n",
       "      <td>156.289993</td>\n",
       "      <td>157.350006</td>\n",
       "      <td>157.410004</td>\n",
       "      <td>53477500.0</td>\n",
       "      <td>153.462509</td>\n",
       "    </tr>\n",
       "    <tr>\n",
       "      <th>2019-12-23</th>\n",
       "      <td>158.119995</td>\n",
       "      <td>157.270004</td>\n",
       "      <td>158.119995</td>\n",
       "      <td>157.410004</td>\n",
       "      <td>17718200.0</td>\n",
       "      <td>153.462509</td>\n",
       "    </tr>\n",
       "    <tr>\n",
       "      <th>2019-12-24</th>\n",
       "      <td>157.710007</td>\n",
       "      <td>157.119995</td>\n",
       "      <td>157.479996</td>\n",
       "      <td>157.380005</td>\n",
       "      <td>8989200.0</td>\n",
       "      <td>153.433243</td>\n",
       "    </tr>\n",
       "    <tr>\n",
       "      <th>2019-12-26</th>\n",
       "      <td>158.729996</td>\n",
       "      <td>157.399994</td>\n",
       "      <td>157.559998</td>\n",
       "      <td>158.669998</td>\n",
       "      <td>14520600.0</td>\n",
       "      <td>154.690918</td>\n",
       "    </tr>\n",
       "    <tr>\n",
       "      <th>2019-12-27</th>\n",
       "      <td>159.550003</td>\n",
       "      <td>158.220001</td>\n",
       "      <td>159.449997</td>\n",
       "      <td>158.960007</td>\n",
       "      <td>18412800.0</td>\n",
       "      <td>154.973648</td>\n",
       "    </tr>\n",
       "    <tr>\n",
       "      <th>2019-12-30</th>\n",
       "      <td>159.020004</td>\n",
       "      <td>156.729996</td>\n",
       "      <td>158.990005</td>\n",
       "      <td>157.589996</td>\n",
       "      <td>16348400.0</td>\n",
       "      <td>153.637985</td>\n",
       "    </tr>\n",
       "    <tr>\n",
       "      <th>2019-12-31</th>\n",
       "      <td>157.770004</td>\n",
       "      <td>156.449997</td>\n",
       "      <td>156.770004</td>\n",
       "      <td>157.699997</td>\n",
       "      <td>18369400.0</td>\n",
       "      <td>153.745224</td>\n",
       "    </tr>\n",
       "  </tbody>\n",
       "</table>\n",
       "</div>"
      ],
      "text/plain": [
       "                  High         Low        Open       Close      Volume  \\\n",
       "Date                                                                     \n",
       "2019-12-02  151.830002  148.320007  151.809998  149.550003  27418400.0   \n",
       "2019-12-03  149.429993  146.649994  147.490005  149.309998  24066000.0   \n",
       "2019-12-04  150.179993  149.199997  150.139999  149.850006  17574700.0   \n",
       "2019-12-05  150.320007  149.479996  150.050003  149.929993  17869100.0   \n",
       "2019-12-06  151.869995  150.270004  150.990005  151.750000  16403500.0   \n",
       "2019-12-09  152.210007  150.910004  151.070007  151.360001  16687400.0   \n",
       "2019-12-10  151.889999  150.759995  151.289993  151.130005  16476100.0   \n",
       "2019-12-11  151.869995  150.330002  151.539993  151.699997  18856600.0   \n",
       "2019-12-12  153.440002  151.020004  151.649994  153.240005  24612100.0   \n",
       "2019-12-13  154.889999  152.830002  153.000000  154.529999  23845400.0   \n",
       "2019-12-16  155.899994  154.820007  155.110001  155.529999  24144200.0   \n",
       "2019-12-17  155.710007  154.449997  155.449997  154.690002  25425600.0   \n",
       "2019-12-18  155.479996  154.179993  154.300003  154.369995  24129200.0   \n",
       "2019-12-19  155.770004  153.750000  154.000000  155.710007  24958900.0   \n",
       "2019-12-20  158.490005  156.289993  157.350006  157.410004  53477500.0   \n",
       "2019-12-23  158.119995  157.270004  158.119995  157.410004  17718200.0   \n",
       "2019-12-24  157.710007  157.119995  157.479996  157.380005   8989200.0   \n",
       "2019-12-26  158.729996  157.399994  157.559998  158.669998  14520600.0   \n",
       "2019-12-27  159.550003  158.220001  159.449997  158.960007  18412800.0   \n",
       "2019-12-30  159.020004  156.729996  158.990005  157.589996  16348400.0   \n",
       "2019-12-31  157.770004  156.449997  156.770004  157.699997  18369400.0   \n",
       "\n",
       "             Adj Close  \n",
       "Date                    \n",
       "2019-12-02  145.799591  \n",
       "2019-12-03  145.565628  \n",
       "2019-12-04  146.092087  \n",
       "2019-12-05  146.170074  \n",
       "2019-12-06  147.944458  \n",
       "2019-12-09  147.564209  \n",
       "2019-12-10  147.340012  \n",
       "2019-12-11  147.895676  \n",
       "2019-12-12  149.397110  \n",
       "2019-12-13  150.654709  \n",
       "2019-12-16  151.629623  \n",
       "2019-12-17  150.810684  \n",
       "2019-12-18  150.498764  \n",
       "2019-12-19  151.805130  \n",
       "2019-12-20  153.462509  \n",
       "2019-12-23  153.462509  \n",
       "2019-12-24  153.433243  \n",
       "2019-12-26  154.690918  \n",
       "2019-12-27  154.973648  \n",
       "2019-12-30  153.637985  \n",
       "2019-12-31  153.745224  "
      ]
     },
     "execution_count": 41,
     "metadata": {},
     "output_type": "execute_result"
    }
   ],
   "source": [
    "stocks.loc[\"2019-12-01\":\"2019-12-31\"]"
   ]
  },
  {
   "cell_type": "code",
   "execution_count": 42,
   "id": "76d7ffeb",
   "metadata": {},
   "outputs": [
    {
     "data": {
      "text/html": [
       "<div>\n",
       "<style scoped>\n",
       "    .dataframe tbody tr th:only-of-type {\n",
       "        vertical-align: middle;\n",
       "    }\n",
       "\n",
       "    .dataframe tbody tr th {\n",
       "        vertical-align: top;\n",
       "    }\n",
       "\n",
       "    .dataframe thead th {\n",
       "        text-align: right;\n",
       "    }\n",
       "</style>\n",
       "<table border=\"1\" class=\"dataframe\">\n",
       "  <thead>\n",
       "    <tr style=\"text-align: right;\">\n",
       "      <th></th>\n",
       "      <th>High</th>\n",
       "      <th>Low</th>\n",
       "      <th>Open</th>\n",
       "      <th>Close</th>\n",
       "      <th>Volume</th>\n",
       "      <th>Adj Close</th>\n",
       "    </tr>\n",
       "    <tr>\n",
       "      <th>Date</th>\n",
       "      <th></th>\n",
       "      <th></th>\n",
       "      <th></th>\n",
       "      <th></th>\n",
       "      <th></th>\n",
       "      <th></th>\n",
       "    </tr>\n",
       "  </thead>\n",
       "  <tbody>\n",
       "    <tr>\n",
       "      <th>2019-12-05</th>\n",
       "      <td>150.320007</td>\n",
       "      <td>149.479996</td>\n",
       "      <td>150.050003</td>\n",
       "      <td>149.929993</td>\n",
       "      <td>17869100.0</td>\n",
       "      <td>146.170074</td>\n",
       "    </tr>\n",
       "    <tr>\n",
       "      <th>2019-12-06</th>\n",
       "      <td>151.869995</td>\n",
       "      <td>150.270004</td>\n",
       "      <td>150.990005</td>\n",
       "      <td>151.750000</td>\n",
       "      <td>16403500.0</td>\n",
       "      <td>147.944458</td>\n",
       "    </tr>\n",
       "    <tr>\n",
       "      <th>2019-12-09</th>\n",
       "      <td>152.210007</td>\n",
       "      <td>150.910004</td>\n",
       "      <td>151.070007</td>\n",
       "      <td>151.360001</td>\n",
       "      <td>16687400.0</td>\n",
       "      <td>147.564209</td>\n",
       "    </tr>\n",
       "    <tr>\n",
       "      <th>2019-12-10</th>\n",
       "      <td>151.889999</td>\n",
       "      <td>150.759995</td>\n",
       "      <td>151.289993</td>\n",
       "      <td>151.130005</td>\n",
       "      <td>16476100.0</td>\n",
       "      <td>147.340012</td>\n",
       "    </tr>\n",
       "    <tr>\n",
       "      <th>2019-12-11</th>\n",
       "      <td>151.869995</td>\n",
       "      <td>150.330002</td>\n",
       "      <td>151.539993</td>\n",
       "      <td>151.699997</td>\n",
       "      <td>18856600.0</td>\n",
       "      <td>147.895676</td>\n",
       "    </tr>\n",
       "    <tr>\n",
       "      <th>2019-12-12</th>\n",
       "      <td>153.440002</td>\n",
       "      <td>151.020004</td>\n",
       "      <td>151.649994</td>\n",
       "      <td>153.240005</td>\n",
       "      <td>24612100.0</td>\n",
       "      <td>149.397110</td>\n",
       "    </tr>\n",
       "    <tr>\n",
       "      <th>2019-12-13</th>\n",
       "      <td>154.889999</td>\n",
       "      <td>152.830002</td>\n",
       "      <td>153.000000</td>\n",
       "      <td>154.529999</td>\n",
       "      <td>23845400.0</td>\n",
       "      <td>150.654709</td>\n",
       "    </tr>\n",
       "  </tbody>\n",
       "</table>\n",
       "</div>"
      ],
      "text/plain": [
       "                  High         Low        Open       Close      Volume  \\\n",
       "Date                                                                     \n",
       "2019-12-05  150.320007  149.479996  150.050003  149.929993  17869100.0   \n",
       "2019-12-06  151.869995  150.270004  150.990005  151.750000  16403500.0   \n",
       "2019-12-09  152.210007  150.910004  151.070007  151.360001  16687400.0   \n",
       "2019-12-10  151.889999  150.759995  151.289993  151.130005  16476100.0   \n",
       "2019-12-11  151.869995  150.330002  151.539993  151.699997  18856600.0   \n",
       "2019-12-12  153.440002  151.020004  151.649994  153.240005  24612100.0   \n",
       "2019-12-13  154.889999  152.830002  153.000000  154.529999  23845400.0   \n",
       "\n",
       "             Adj Close  \n",
       "Date                    \n",
       "2019-12-05  146.170074  \n",
       "2019-12-06  147.944458  \n",
       "2019-12-09  147.564209  \n",
       "2019-12-10  147.340012  \n",
       "2019-12-11  147.895676  \n",
       "2019-12-12  149.397110  \n",
       "2019-12-13  150.654709  "
      ]
     },
     "execution_count": 42,
     "metadata": {},
     "output_type": "execute_result"
    }
   ],
   "source": [
    "stocks.truncate(before=\"2019-12-05\", after=\"2019-12-15\")"
   ]
  },
  {
   "cell_type": "markdown",
   "id": "0b4bfe4c",
   "metadata": {},
   "source": [
    "### Time delta"
   ]
  },
  {
   "cell_type": "code",
   "execution_count": 43,
   "id": "444025f0",
   "metadata": {},
   "outputs": [],
   "source": [
    "timeA = pd.Timestamp(\"2019-12-22 17:53:20\")\n",
    "timeB = pd.Timestamp(\"2019-12-23 17:53:20\")"
   ]
  },
  {
   "cell_type": "code",
   "execution_count": 44,
   "id": "d89c8b31",
   "metadata": {},
   "outputs": [
    {
     "data": {
      "text/plain": [
       "Timedelta('1 days 00:00:00')"
      ]
     },
     "execution_count": 44,
     "metadata": {},
     "output_type": "execute_result"
    }
   ],
   "source": [
    "timeB-timeA"
   ]
  },
  {
   "cell_type": "code",
   "execution_count": 45,
   "id": "7ba051a0",
   "metadata": {},
   "outputs": [
    {
     "data": {
      "text/plain": [
       "Timedelta('72 days 03:23:00')"
      ]
     },
     "execution_count": 45,
     "metadata": {},
     "output_type": "execute_result"
    }
   ],
   "source": [
    "pd.Timedelta(weeks=10, days=2, hours=3, minutes=23)"
   ]
  },
  {
   "cell_type": "code",
   "execution_count": 46,
   "id": "0310cf0d",
   "metadata": {},
   "outputs": [],
   "source": [
    "data = {\"ID\": [1,2,3,4,5], \"start_date\":['12 dec 1990', '12 dec 1990', '12 dec 1990', '12 dec 1990', '12 dec 1990'], \"end_date\":['12 dec 1990', '15 dec 1990', '13 dec 1990', '19 dec 1990', '15 dec 1990']}"
   ]
  },
  {
   "cell_type": "code",
   "execution_count": 47,
   "id": "5416afa7",
   "metadata": {},
   "outputs": [
    {
     "data": {
      "text/html": [
       "<div>\n",
       "<style scoped>\n",
       "    .dataframe tbody tr th:only-of-type {\n",
       "        vertical-align: middle;\n",
       "    }\n",
       "\n",
       "    .dataframe tbody tr th {\n",
       "        vertical-align: top;\n",
       "    }\n",
       "\n",
       "    .dataframe thead th {\n",
       "        text-align: right;\n",
       "    }\n",
       "</style>\n",
       "<table border=\"1\" class=\"dataframe\">\n",
       "  <thead>\n",
       "    <tr style=\"text-align: right;\">\n",
       "      <th></th>\n",
       "      <th>ID</th>\n",
       "      <th>start_date</th>\n",
       "      <th>end_date</th>\n",
       "    </tr>\n",
       "  </thead>\n",
       "  <tbody>\n",
       "    <tr>\n",
       "      <th>0</th>\n",
       "      <td>1</td>\n",
       "      <td>12 dec 1990</td>\n",
       "      <td>12 dec 1990</td>\n",
       "    </tr>\n",
       "    <tr>\n",
       "      <th>1</th>\n",
       "      <td>2</td>\n",
       "      <td>12 dec 1990</td>\n",
       "      <td>15 dec 1990</td>\n",
       "    </tr>\n",
       "    <tr>\n",
       "      <th>2</th>\n",
       "      <td>3</td>\n",
       "      <td>12 dec 1990</td>\n",
       "      <td>13 dec 1990</td>\n",
       "    </tr>\n",
       "    <tr>\n",
       "      <th>3</th>\n",
       "      <td>4</td>\n",
       "      <td>12 dec 1990</td>\n",
       "      <td>19 dec 1990</td>\n",
       "    </tr>\n",
       "    <tr>\n",
       "      <th>4</th>\n",
       "      <td>5</td>\n",
       "      <td>12 dec 1990</td>\n",
       "      <td>15 dec 1990</td>\n",
       "    </tr>\n",
       "  </tbody>\n",
       "</table>\n",
       "</div>"
      ],
      "text/plain": [
       "   ID   start_date     end_date\n",
       "0   1  12 dec 1990  12 dec 1990\n",
       "1   2  12 dec 1990  15 dec 1990\n",
       "2   3  12 dec 1990  13 dec 1990\n",
       "3   4  12 dec 1990  19 dec 1990\n",
       "4   5  12 dec 1990  15 dec 1990"
      ]
     },
     "execution_count": 47,
     "metadata": {},
     "output_type": "execute_result"
    }
   ],
   "source": [
    "df = pd.DataFrame.from_dict(data)\n",
    "df"
   ]
  },
  {
   "cell_type": "code",
   "execution_count": 48,
   "id": "2869187c",
   "metadata": {},
   "outputs": [],
   "source": [
    "df[\"start_date\"] = pd.to_datetime(df[\"start_date\"])\n",
    "df[\"end_date\"] = pd.to_datetime(df[\"end_date\"])"
   ]
  },
  {
   "cell_type": "code",
   "execution_count": 49,
   "id": "b29b019b",
   "metadata": {},
   "outputs": [
    {
     "data": {
      "text/html": [
       "<div>\n",
       "<style scoped>\n",
       "    .dataframe tbody tr th:only-of-type {\n",
       "        vertical-align: middle;\n",
       "    }\n",
       "\n",
       "    .dataframe tbody tr th {\n",
       "        vertical-align: top;\n",
       "    }\n",
       "\n",
       "    .dataframe thead th {\n",
       "        text-align: right;\n",
       "    }\n",
       "</style>\n",
       "<table border=\"1\" class=\"dataframe\">\n",
       "  <thead>\n",
       "    <tr style=\"text-align: right;\">\n",
       "      <th></th>\n",
       "      <th>ID</th>\n",
       "      <th>start_date</th>\n",
       "      <th>end_date</th>\n",
       "    </tr>\n",
       "  </thead>\n",
       "  <tbody>\n",
       "    <tr>\n",
       "      <th>0</th>\n",
       "      <td>1</td>\n",
       "      <td>1990-12-12</td>\n",
       "      <td>1990-12-12</td>\n",
       "    </tr>\n",
       "    <tr>\n",
       "      <th>1</th>\n",
       "      <td>2</td>\n",
       "      <td>1990-12-12</td>\n",
       "      <td>1990-12-15</td>\n",
       "    </tr>\n",
       "    <tr>\n",
       "      <th>2</th>\n",
       "      <td>3</td>\n",
       "      <td>1990-12-12</td>\n",
       "      <td>1990-12-13</td>\n",
       "    </tr>\n",
       "    <tr>\n",
       "      <th>3</th>\n",
       "      <td>4</td>\n",
       "      <td>1990-12-12</td>\n",
       "      <td>1990-12-19</td>\n",
       "    </tr>\n",
       "    <tr>\n",
       "      <th>4</th>\n",
       "      <td>5</td>\n",
       "      <td>1990-12-12</td>\n",
       "      <td>1990-12-15</td>\n",
       "    </tr>\n",
       "  </tbody>\n",
       "</table>\n",
       "</div>"
      ],
      "text/plain": [
       "   ID start_date   end_date\n",
       "0   1 1990-12-12 1990-12-12\n",
       "1   2 1990-12-12 1990-12-15\n",
       "2   3 1990-12-12 1990-12-13\n",
       "3   4 1990-12-12 1990-12-19\n",
       "4   5 1990-12-12 1990-12-15"
      ]
     },
     "execution_count": 49,
     "metadata": {},
     "output_type": "execute_result"
    }
   ],
   "source": [
    "df"
   ]
  },
  {
   "cell_type": "code",
   "execution_count": 50,
   "id": "a4e3ee40",
   "metadata": {},
   "outputs": [],
   "source": [
    "df[\"time\"] = df.end_date - df.start_date"
   ]
  },
  {
   "cell_type": "code",
   "execution_count": 51,
   "id": "60496537",
   "metadata": {},
   "outputs": [
    {
     "data": {
      "text/html": [
       "<div>\n",
       "<style scoped>\n",
       "    .dataframe tbody tr th:only-of-type {\n",
       "        vertical-align: middle;\n",
       "    }\n",
       "\n",
       "    .dataframe tbody tr th {\n",
       "        vertical-align: top;\n",
       "    }\n",
       "\n",
       "    .dataframe thead th {\n",
       "        text-align: right;\n",
       "    }\n",
       "</style>\n",
       "<table border=\"1\" class=\"dataframe\">\n",
       "  <thead>\n",
       "    <tr style=\"text-align: right;\">\n",
       "      <th></th>\n",
       "      <th>ID</th>\n",
       "      <th>start_date</th>\n",
       "      <th>end_date</th>\n",
       "      <th>time</th>\n",
       "    </tr>\n",
       "  </thead>\n",
       "  <tbody>\n",
       "    <tr>\n",
       "      <th>0</th>\n",
       "      <td>1</td>\n",
       "      <td>1990-12-12</td>\n",
       "      <td>1990-12-12</td>\n",
       "      <td>0 days</td>\n",
       "    </tr>\n",
       "    <tr>\n",
       "      <th>1</th>\n",
       "      <td>2</td>\n",
       "      <td>1990-12-12</td>\n",
       "      <td>1990-12-15</td>\n",
       "      <td>3 days</td>\n",
       "    </tr>\n",
       "    <tr>\n",
       "      <th>2</th>\n",
       "      <td>3</td>\n",
       "      <td>1990-12-12</td>\n",
       "      <td>1990-12-13</td>\n",
       "      <td>1 days</td>\n",
       "    </tr>\n",
       "    <tr>\n",
       "      <th>3</th>\n",
       "      <td>4</td>\n",
       "      <td>1990-12-12</td>\n",
       "      <td>1990-12-19</td>\n",
       "      <td>7 days</td>\n",
       "    </tr>\n",
       "    <tr>\n",
       "      <th>4</th>\n",
       "      <td>5</td>\n",
       "      <td>1990-12-12</td>\n",
       "      <td>1990-12-15</td>\n",
       "      <td>3 days</td>\n",
       "    </tr>\n",
       "  </tbody>\n",
       "</table>\n",
       "</div>"
      ],
      "text/plain": [
       "   ID start_date   end_date   time\n",
       "0   1 1990-12-12 1990-12-12 0 days\n",
       "1   2 1990-12-12 1990-12-15 3 days\n",
       "2   3 1990-12-12 1990-12-13 1 days\n",
       "3   4 1990-12-12 1990-12-19 7 days\n",
       "4   5 1990-12-12 1990-12-15 3 days"
      ]
     },
     "execution_count": 51,
     "metadata": {},
     "output_type": "execute_result"
    }
   ],
   "source": [
    "df"
   ]
  },
  {
   "cell_type": "markdown",
   "id": "d22dd332",
   "metadata": {},
   "source": [
    "### strptime and strftime"
   ]
  },
  {
   "cell_type": "code",
   "execution_count": 52,
   "id": "6976b552",
   "metadata": {},
   "outputs": [],
   "source": [
    "dt_string = \"2019/07/23 04:32:51\""
   ]
  },
  {
   "cell_type": "code",
   "execution_count": 53,
   "id": "d10ed83b",
   "metadata": {},
   "outputs": [
    {
     "data": {
      "text/plain": [
       "datetime.datetime(2019, 7, 23, 4, 32, 51)"
      ]
     },
     "execution_count": 53,
     "metadata": {},
     "output_type": "execute_result"
    }
   ],
   "source": [
    "dt_date = dt.datetime.strptime(dt_string,\"%Y/%m/%d %H:%M:%S\")\n",
    "dt_date"
   ]
  },
  {
   "cell_type": "code",
   "execution_count": 54,
   "id": "99266824",
   "metadata": {},
   "outputs": [
    {
     "name": "stdout",
     "output_type": "stream",
     "text": [
      "<class 'datetime.datetime'>\n"
     ]
    }
   ],
   "source": [
    "print(type(dt.datetime.strptime(dt_string,\"%Y/%m/%d %H:%M:%S\")))"
   ]
  },
  {
   "cell_type": "code",
   "execution_count": 55,
   "id": "78797ae9",
   "metadata": {},
   "outputs": [
    {
     "data": {
      "text/plain": [
       "datetime.datetime(2022, 8, 30, 19, 41, 23, 297271)"
      ]
     },
     "execution_count": 55,
     "metadata": {},
     "output_type": "execute_result"
    }
   ],
   "source": [
    "curr = dt.datetime.now()\n",
    "curr"
   ]
  },
  {
   "cell_type": "code",
   "execution_count": 56,
   "id": "2be6fddb",
   "metadata": {},
   "outputs": [
    {
     "name": "stdout",
     "output_type": "stream",
     "text": [
      "2022/08/30 19:41:23\n"
     ]
    }
   ],
   "source": [
    "req_format = dt.datetime.strftime(curr,\"%Y/%m/%d %H:%M:%S\")\n",
    "print(req_format)"
   ]
  },
  {
   "cell_type": "code",
   "execution_count": 57,
   "id": "67507cd5",
   "metadata": {},
   "outputs": [
    {
     "name": "stdout",
     "output_type": "stream",
     "text": [
      "<class 'str'>\n"
     ]
    }
   ],
   "source": [
    "print(type(req_format))"
   ]
  },
  {
   "cell_type": "markdown",
   "id": "7704756d",
   "metadata": {},
   "source": [
    "### Resample"
   ]
  },
  {
   "cell_type": "code",
   "execution_count": 58,
   "id": "8870c7ee",
   "metadata": {},
   "outputs": [
    {
     "data": {
      "text/html": [
       "<div>\n",
       "<style scoped>\n",
       "    .dataframe tbody tr th:only-of-type {\n",
       "        vertical-align: middle;\n",
       "    }\n",
       "\n",
       "    .dataframe tbody tr th {\n",
       "        vertical-align: top;\n",
       "    }\n",
       "\n",
       "    .dataframe thead th {\n",
       "        text-align: right;\n",
       "    }\n",
       "</style>\n",
       "<table border=\"1\" class=\"dataframe\">\n",
       "  <thead>\n",
       "    <tr style=\"text-align: right;\">\n",
       "      <th></th>\n",
       "      <th>count</th>\n",
       "    </tr>\n",
       "  </thead>\n",
       "  <tbody>\n",
       "    <tr>\n",
       "      <th>2020-02-01 00:00:00</th>\n",
       "      <td>0</td>\n",
       "    </tr>\n",
       "    <tr>\n",
       "      <th>2020-02-01 00:01:00</th>\n",
       "      <td>1</td>\n",
       "    </tr>\n",
       "    <tr>\n",
       "      <th>2020-02-01 00:02:00</th>\n",
       "      <td>2</td>\n",
       "    </tr>\n",
       "    <tr>\n",
       "      <th>2020-02-01 00:03:00</th>\n",
       "      <td>3</td>\n",
       "    </tr>\n",
       "    <tr>\n",
       "      <th>2020-02-01 00:04:00</th>\n",
       "      <td>4</td>\n",
       "    </tr>\n",
       "    <tr>\n",
       "      <th>2020-02-01 00:05:00</th>\n",
       "      <td>5</td>\n",
       "    </tr>\n",
       "    <tr>\n",
       "      <th>2020-02-01 00:06:00</th>\n",
       "      <td>6</td>\n",
       "    </tr>\n",
       "    <tr>\n",
       "      <th>2020-02-01 00:07:00</th>\n",
       "      <td>7</td>\n",
       "    </tr>\n",
       "    <tr>\n",
       "      <th>2020-02-01 00:08:00</th>\n",
       "      <td>8</td>\n",
       "    </tr>\n",
       "    <tr>\n",
       "      <th>2020-02-01 00:09:00</th>\n",
       "      <td>9</td>\n",
       "    </tr>\n",
       "    <tr>\n",
       "      <th>2020-02-01 00:10:00</th>\n",
       "      <td>10</td>\n",
       "    </tr>\n",
       "    <tr>\n",
       "      <th>2020-02-01 00:11:00</th>\n",
       "      <td>11</td>\n",
       "    </tr>\n",
       "    <tr>\n",
       "      <th>2020-02-01 00:12:00</th>\n",
       "      <td>12</td>\n",
       "    </tr>\n",
       "    <tr>\n",
       "      <th>2020-02-01 00:13:00</th>\n",
       "      <td>13</td>\n",
       "    </tr>\n",
       "    <tr>\n",
       "      <th>2020-02-01 00:14:00</th>\n",
       "      <td>14</td>\n",
       "    </tr>\n",
       "  </tbody>\n",
       "</table>\n",
       "</div>"
      ],
      "text/plain": [
       "                     count\n",
       "2020-02-01 00:00:00      0\n",
       "2020-02-01 00:01:00      1\n",
       "2020-02-01 00:02:00      2\n",
       "2020-02-01 00:03:00      3\n",
       "2020-02-01 00:04:00      4\n",
       "2020-02-01 00:05:00      5\n",
       "2020-02-01 00:06:00      6\n",
       "2020-02-01 00:07:00      7\n",
       "2020-02-01 00:08:00      8\n",
       "2020-02-01 00:09:00      9\n",
       "2020-02-01 00:10:00     10\n",
       "2020-02-01 00:11:00     11\n",
       "2020-02-01 00:12:00     12\n",
       "2020-02-01 00:13:00     13\n",
       "2020-02-01 00:14:00     14"
      ]
     },
     "execution_count": 58,
     "metadata": {},
     "output_type": "execute_result"
    }
   ],
   "source": [
    "index = pd.date_range('2/1/2020', periods=15, freq='T')\n",
    "df = pd.DataFrame(data=range(15), index=index, columns=['count'])\n",
    "df"
   ]
  },
  {
   "cell_type": "code",
   "execution_count": 59,
   "id": "34c80171",
   "metadata": {},
   "outputs": [
    {
     "data": {
      "text/html": [
       "<div>\n",
       "<style scoped>\n",
       "    .dataframe tbody tr th:only-of-type {\n",
       "        vertical-align: middle;\n",
       "    }\n",
       "\n",
       "    .dataframe tbody tr th {\n",
       "        vertical-align: top;\n",
       "    }\n",
       "\n",
       "    .dataframe thead th {\n",
       "        text-align: right;\n",
       "    }\n",
       "</style>\n",
       "<table border=\"1\" class=\"dataframe\">\n",
       "  <thead>\n",
       "    <tr style=\"text-align: right;\">\n",
       "      <th></th>\n",
       "      <th>count</th>\n",
       "    </tr>\n",
       "  </thead>\n",
       "  <tbody>\n",
       "    <tr>\n",
       "      <th>2020-02-01 00:00:00</th>\n",
       "      <td>10</td>\n",
       "    </tr>\n",
       "    <tr>\n",
       "      <th>2020-02-01 00:05:00</th>\n",
       "      <td>35</td>\n",
       "    </tr>\n",
       "    <tr>\n",
       "      <th>2020-02-01 00:10:00</th>\n",
       "      <td>60</td>\n",
       "    </tr>\n",
       "  </tbody>\n",
       "</table>\n",
       "</div>"
      ],
      "text/plain": [
       "                     count\n",
       "2020-02-01 00:00:00     10\n",
       "2020-02-01 00:05:00     35\n",
       "2020-02-01 00:10:00     60"
      ]
     },
     "execution_count": 59,
     "metadata": {},
     "output_type": "execute_result"
    }
   ],
   "source": [
    "df.resample('5T').sum()"
   ]
  },
  {
   "cell_type": "code",
   "execution_count": 60,
   "id": "f3602db9",
   "metadata": {},
   "outputs": [
    {
     "data": {
      "text/html": [
       "<div>\n",
       "<style scoped>\n",
       "    .dataframe tbody tr th:only-of-type {\n",
       "        vertical-align: middle;\n",
       "    }\n",
       "\n",
       "    .dataframe tbody tr th {\n",
       "        vertical-align: top;\n",
       "    }\n",
       "\n",
       "    .dataframe thead th {\n",
       "        text-align: right;\n",
       "    }\n",
       "</style>\n",
       "<table border=\"1\" class=\"dataframe\">\n",
       "  <thead>\n",
       "    <tr style=\"text-align: right;\">\n",
       "      <th></th>\n",
       "      <th>count</th>\n",
       "    </tr>\n",
       "  </thead>\n",
       "  <tbody>\n",
       "    <tr>\n",
       "      <th>2020-01-31 23:55:00</th>\n",
       "      <td>0</td>\n",
       "    </tr>\n",
       "    <tr>\n",
       "      <th>2020-02-01 00:00:00</th>\n",
       "      <td>15</td>\n",
       "    </tr>\n",
       "    <tr>\n",
       "      <th>2020-02-01 00:05:00</th>\n",
       "      <td>40</td>\n",
       "    </tr>\n",
       "    <tr>\n",
       "      <th>2020-02-01 00:10:00</th>\n",
       "      <td>50</td>\n",
       "    </tr>\n",
       "  </tbody>\n",
       "</table>\n",
       "</div>"
      ],
      "text/plain": [
       "                     count\n",
       "2020-01-31 23:55:00      0\n",
       "2020-02-01 00:00:00     15\n",
       "2020-02-01 00:05:00     40\n",
       "2020-02-01 00:10:00     50"
      ]
     },
     "execution_count": 60,
     "metadata": {},
     "output_type": "execute_result"
    }
   ],
   "source": [
    "df.resample('5T', closed='right').sum()"
   ]
  },
  {
   "cell_type": "code",
   "execution_count": 61,
   "id": "940d45cc",
   "metadata": {},
   "outputs": [
    {
     "data": {
      "text/html": [
       "<div>\n",
       "<style scoped>\n",
       "    .dataframe tbody tr th:only-of-type {\n",
       "        vertical-align: middle;\n",
       "    }\n",
       "\n",
       "    .dataframe tbody tr th {\n",
       "        vertical-align: top;\n",
       "    }\n",
       "\n",
       "    .dataframe thead th {\n",
       "        text-align: right;\n",
       "    }\n",
       "</style>\n",
       "<table border=\"1\" class=\"dataframe\">\n",
       "  <thead>\n",
       "    <tr style=\"text-align: right;\">\n",
       "      <th></th>\n",
       "      <th>count</th>\n",
       "    </tr>\n",
       "  </thead>\n",
       "  <tbody>\n",
       "    <tr>\n",
       "      <th>2020-02-01 00:00:00</th>\n",
       "      <td>10</td>\n",
       "    </tr>\n",
       "    <tr>\n",
       "      <th>2020-02-01 00:05:00</th>\n",
       "      <td>35</td>\n",
       "    </tr>\n",
       "    <tr>\n",
       "      <th>2020-02-01 00:10:00</th>\n",
       "      <td>60</td>\n",
       "    </tr>\n",
       "  </tbody>\n",
       "</table>\n",
       "</div>"
      ],
      "text/plain": [
       "                     count\n",
       "2020-02-01 00:00:00     10\n",
       "2020-02-01 00:05:00     35\n",
       "2020-02-01 00:10:00     60"
      ]
     },
     "execution_count": 61,
     "metadata": {},
     "output_type": "execute_result"
    }
   ],
   "source": [
    "df.resample('5T', closed='left').sum()"
   ]
  },
  {
   "cell_type": "code",
   "execution_count": 62,
   "id": "59ab89c1",
   "metadata": {},
   "outputs": [
    {
     "data": {
      "text/html": [
       "<div>\n",
       "<style scoped>\n",
       "    .dataframe tbody tr th:only-of-type {\n",
       "        vertical-align: middle;\n",
       "    }\n",
       "\n",
       "    .dataframe tbody tr th {\n",
       "        vertical-align: top;\n",
       "    }\n",
       "\n",
       "    .dataframe thead th {\n",
       "        text-align: right;\n",
       "    }\n",
       "</style>\n",
       "<table border=\"1\" class=\"dataframe\">\n",
       "  <thead>\n",
       "    <tr style=\"text-align: right;\">\n",
       "      <th></th>\n",
       "      <th>count</th>\n",
       "    </tr>\n",
       "  </thead>\n",
       "  <tbody>\n",
       "    <tr>\n",
       "      <th>2020Q1</th>\n",
       "      <td>1</td>\n",
       "    </tr>\n",
       "    <tr>\n",
       "      <th>2020Q2</th>\n",
       "      <td>2</td>\n",
       "    </tr>\n",
       "    <tr>\n",
       "      <th>2020Q3</th>\n",
       "      <td>3</td>\n",
       "    </tr>\n",
       "  </tbody>\n",
       "</table>\n",
       "</div>"
      ],
      "text/plain": [
       "        count\n",
       "2020Q1      1\n",
       "2020Q2      2\n",
       "2020Q3      3"
      ]
     },
     "execution_count": 62,
     "metadata": {},
     "output_type": "execute_result"
    }
   ],
   "source": [
    "index = pd.period_range('1/1/2020', periods=3, freq='Q')\n",
    "df = pd.DataFrame(data=range(1, 4), index=index, columns=['count'])\n",
    "df"
   ]
  },
  {
   "cell_type": "code",
   "execution_count": 63,
   "id": "62508e36",
   "metadata": {},
   "outputs": [
    {
     "data": {
      "text/html": [
       "<div>\n",
       "<style scoped>\n",
       "    .dataframe tbody tr th:only-of-type {\n",
       "        vertical-align: middle;\n",
       "    }\n",
       "\n",
       "    .dataframe tbody tr th {\n",
       "        vertical-align: top;\n",
       "    }\n",
       "\n",
       "    .dataframe thead th {\n",
       "        text-align: right;\n",
       "    }\n",
       "</style>\n",
       "<table border=\"1\" class=\"dataframe\">\n",
       "  <thead>\n",
       "    <tr style=\"text-align: right;\">\n",
       "      <th></th>\n",
       "      <th>count</th>\n",
       "    </tr>\n",
       "  </thead>\n",
       "  <tbody>\n",
       "    <tr>\n",
       "      <th>2020-01</th>\n",
       "      <td>1.0</td>\n",
       "    </tr>\n",
       "    <tr>\n",
       "      <th>2020-02</th>\n",
       "      <td>NaN</td>\n",
       "    </tr>\n",
       "    <tr>\n",
       "      <th>2020-03</th>\n",
       "      <td>NaN</td>\n",
       "    </tr>\n",
       "    <tr>\n",
       "      <th>2020-04</th>\n",
       "      <td>2.0</td>\n",
       "    </tr>\n",
       "    <tr>\n",
       "      <th>2020-05</th>\n",
       "      <td>NaN</td>\n",
       "    </tr>\n",
       "    <tr>\n",
       "      <th>2020-06</th>\n",
       "      <td>NaN</td>\n",
       "    </tr>\n",
       "    <tr>\n",
       "      <th>2020-07</th>\n",
       "      <td>3.0</td>\n",
       "    </tr>\n",
       "    <tr>\n",
       "      <th>2020-08</th>\n",
       "      <td>NaN</td>\n",
       "    </tr>\n",
       "    <tr>\n",
       "      <th>2020-09</th>\n",
       "      <td>NaN</td>\n",
       "    </tr>\n",
       "  </tbody>\n",
       "</table>\n",
       "</div>"
      ],
      "text/plain": [
       "         count\n",
       "2020-01    1.0\n",
       "2020-02    NaN\n",
       "2020-03    NaN\n",
       "2020-04    2.0\n",
       "2020-05    NaN\n",
       "2020-06    NaN\n",
       "2020-07    3.0\n",
       "2020-08    NaN\n",
       "2020-09    NaN"
      ]
     },
     "execution_count": 63,
     "metadata": {},
     "output_type": "execute_result"
    }
   ],
   "source": [
    "df.resample('M', convention='start').sum()"
   ]
  },
  {
   "cell_type": "code",
   "execution_count": 64,
   "id": "f7304e70",
   "metadata": {},
   "outputs": [
    {
     "data": {
      "text/html": [
       "<div>\n",
       "<style scoped>\n",
       "    .dataframe tbody tr th:only-of-type {\n",
       "        vertical-align: middle;\n",
       "    }\n",
       "\n",
       "    .dataframe tbody tr th {\n",
       "        vertical-align: top;\n",
       "    }\n",
       "\n",
       "    .dataframe thead th {\n",
       "        text-align: right;\n",
       "    }\n",
       "</style>\n",
       "<table border=\"1\" class=\"dataframe\">\n",
       "  <thead>\n",
       "    <tr style=\"text-align: right;\">\n",
       "      <th></th>\n",
       "      <th>count</th>\n",
       "    </tr>\n",
       "  </thead>\n",
       "  <tbody>\n",
       "    <tr>\n",
       "      <th>2020-03</th>\n",
       "      <td>1.0</td>\n",
       "    </tr>\n",
       "    <tr>\n",
       "      <th>2020-04</th>\n",
       "      <td>NaN</td>\n",
       "    </tr>\n",
       "    <tr>\n",
       "      <th>2020-05</th>\n",
       "      <td>NaN</td>\n",
       "    </tr>\n",
       "    <tr>\n",
       "      <th>2020-06</th>\n",
       "      <td>2.0</td>\n",
       "    </tr>\n",
       "    <tr>\n",
       "      <th>2020-07</th>\n",
       "      <td>NaN</td>\n",
       "    </tr>\n",
       "    <tr>\n",
       "      <th>2020-08</th>\n",
       "      <td>NaN</td>\n",
       "    </tr>\n",
       "    <tr>\n",
       "      <th>2020-09</th>\n",
       "      <td>3.0</td>\n",
       "    </tr>\n",
       "  </tbody>\n",
       "</table>\n",
       "</div>"
      ],
      "text/plain": [
       "         count\n",
       "2020-03    1.0\n",
       "2020-04    NaN\n",
       "2020-05    NaN\n",
       "2020-06    2.0\n",
       "2020-07    NaN\n",
       "2020-08    NaN\n",
       "2020-09    3.0"
      ]
     },
     "execution_count": 64,
     "metadata": {},
     "output_type": "execute_result"
    }
   ],
   "source": [
    "df.resample('M', convention='end').sum()"
   ]
  },
  {
   "cell_type": "code",
   "execution_count": 65,
   "id": "f68cce8a",
   "metadata": {},
   "outputs": [
    {
     "data": {
      "text/html": [
       "<div>\n",
       "<style scoped>\n",
       "    .dataframe tbody tr th:only-of-type {\n",
       "        vertical-align: middle;\n",
       "    }\n",
       "\n",
       "    .dataframe tbody tr th {\n",
       "        vertical-align: top;\n",
       "    }\n",
       "\n",
       "    .dataframe thead th {\n",
       "        text-align: right;\n",
       "    }\n",
       "</style>\n",
       "<table border=\"1\" class=\"dataframe\">\n",
       "  <thead>\n",
       "    <tr style=\"text-align: right;\">\n",
       "      <th></th>\n",
       "      <th>count</th>\n",
       "    </tr>\n",
       "  </thead>\n",
       "  <tbody>\n",
       "    <tr>\n",
       "      <th>2020-02-01 00:00:00</th>\n",
       "      <td>0</td>\n",
       "    </tr>\n",
       "    <tr>\n",
       "      <th>2020-02-01 00:03:00</th>\n",
       "      <td>1</td>\n",
       "    </tr>\n",
       "    <tr>\n",
       "      <th>2020-02-01 00:06:00</th>\n",
       "      <td>2</td>\n",
       "    </tr>\n",
       "    <tr>\n",
       "      <th>2020-02-01 00:09:00</th>\n",
       "      <td>3</td>\n",
       "    </tr>\n",
       "    <tr>\n",
       "      <th>2020-02-01 00:12:00</th>\n",
       "      <td>4</td>\n",
       "    </tr>\n",
       "    <tr>\n",
       "      <th>2020-02-01 00:15:00</th>\n",
       "      <td>5</td>\n",
       "    </tr>\n",
       "    <tr>\n",
       "      <th>2020-02-01 00:18:00</th>\n",
       "      <td>6</td>\n",
       "    </tr>\n",
       "    <tr>\n",
       "      <th>2020-02-01 00:21:00</th>\n",
       "      <td>7</td>\n",
       "    </tr>\n",
       "    <tr>\n",
       "      <th>2020-02-01 00:24:00</th>\n",
       "      <td>8</td>\n",
       "    </tr>\n",
       "  </tbody>\n",
       "</table>\n",
       "</div>"
      ],
      "text/plain": [
       "                     count\n",
       "2020-02-01 00:00:00      0\n",
       "2020-02-01 00:03:00      1\n",
       "2020-02-01 00:06:00      2\n",
       "2020-02-01 00:09:00      3\n",
       "2020-02-01 00:12:00      4\n",
       "2020-02-01 00:15:00      5\n",
       "2020-02-01 00:18:00      6\n",
       "2020-02-01 00:21:00      7\n",
       "2020-02-01 00:24:00      8"
      ]
     },
     "execution_count": 65,
     "metadata": {},
     "output_type": "execute_result"
    }
   ],
   "source": [
    "index = pd.date_range('2/1/2020', periods=9, freq='3T')\n",
    "df = pd.DataFrame(data=range(9), index=index, columns=['count'])\n",
    "df"
   ]
  },
  {
   "cell_type": "code",
   "execution_count": 66,
   "id": "39333984",
   "metadata": {},
   "outputs": [
    {
     "data": {
      "text/html": [
       "<div>\n",
       "<style scoped>\n",
       "    .dataframe tbody tr th:only-of-type {\n",
       "        vertical-align: middle;\n",
       "    }\n",
       "\n",
       "    .dataframe tbody tr th {\n",
       "        vertical-align: top;\n",
       "    }\n",
       "\n",
       "    .dataframe thead th {\n",
       "        text-align: right;\n",
       "    }\n",
       "</style>\n",
       "<table border=\"1\" class=\"dataframe\">\n",
       "  <thead>\n",
       "    <tr style=\"text-align: right;\">\n",
       "      <th></th>\n",
       "      <th>count</th>\n",
       "    </tr>\n",
       "  </thead>\n",
       "  <tbody>\n",
       "    <tr>\n",
       "      <th>2020-02-01 00:00:00</th>\n",
       "      <td>0</td>\n",
       "    </tr>\n",
       "    <tr>\n",
       "      <th>2020-02-01 00:07:00</th>\n",
       "      <td>3</td>\n",
       "    </tr>\n",
       "    <tr>\n",
       "      <th>2020-02-01 00:14:00</th>\n",
       "      <td>7</td>\n",
       "    </tr>\n",
       "    <tr>\n",
       "      <th>2020-02-01 00:21:00</th>\n",
       "      <td>18</td>\n",
       "    </tr>\n",
       "    <tr>\n",
       "      <th>2020-02-01 00:28:00</th>\n",
       "      <td>8</td>\n",
       "    </tr>\n",
       "  </tbody>\n",
       "</table>\n",
       "</div>"
      ],
      "text/plain": [
       "                     count\n",
       "2020-02-01 00:00:00      0\n",
       "2020-02-01 00:07:00      3\n",
       "2020-02-01 00:14:00      7\n",
       "2020-02-01 00:21:00     18\n",
       "2020-02-01 00:28:00      8"
      ]
     },
     "execution_count": 66,
     "metadata": {},
     "output_type": "execute_result"
    }
   ],
   "source": [
    "df.resample('7T', label='right', closed='right').sum()"
   ]
  },
  {
   "cell_type": "code",
   "execution_count": null,
   "id": "b80b6384",
   "metadata": {},
   "outputs": [],
   "source": []
  }
 ],
 "metadata": {
  "kernelspec": {
   "display_name": "Python 3 (ipykernel)",
   "language": "python",
   "name": "python3"
  },
  "language_info": {
   "codemirror_mode": {
    "name": "ipython",
    "version": 3
   },
   "file_extension": ".py",
   "mimetype": "text/x-python",
   "name": "python",
   "nbconvert_exporter": "python",
   "pygments_lexer": "ipython3",
   "version": "3.9.12"
  }
 },
 "nbformat": 4,
 "nbformat_minor": 5
}
